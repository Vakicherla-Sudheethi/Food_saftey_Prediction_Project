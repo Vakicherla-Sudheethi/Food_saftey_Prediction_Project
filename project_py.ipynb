{
  "nbformat": 4,
  "nbformat_minor": 0,
  "metadata": {
    "colab": {
      "provenance": [],
      "mount_file_id": "145bPqThvoj0nkClWQBIwTK0F4_740i3m",
      "authorship_tag": "ABX9TyPYust2zQ7eV98m6q9h8gFi",
      "include_colab_link": true
    },
    "kernelspec": {
      "name": "python3",
      "display_name": "Python 3"
    },
    "language_info": {
      "name": "python"
    }
  },
  "cells": [
    {
      "cell_type": "markdown",
      "metadata": {
        "id": "view-in-github",
        "colab_type": "text"
      },
      "source": [
        "<a href=\"https://colab.research.google.com/github/Vakicherla-Sudheethi/Food_saftey_Prediction_Project/blob/main/project_py.ipynb\" target=\"_parent\"><img src=\"https://colab.research.google.com/assets/colab-badge.svg\" alt=\"Open In Colab\"/></a>"
      ]
    },
    {
      "cell_type": "code",
      "execution_count": null,
      "metadata": {
        "id": "_caGcUuZGyvP"
      },
      "outputs": [],
      "source": [
        "import pandas as pd\n",
        "import numpy as np\n",
        "import seaborn as sns\n",
        "import matplotlib.pyplot as plt\n",
        "import random\n",
        "from sklearn.metrics import accuracy_score\n",
        "import warnings\n",
        "warnings.filterwarnings(\"ignore\")\n"
      ]
    },
    {
      "cell_type": "code",
      "source": [
        "\n",
        "food_data=pd.read_csv('/food_data.csv')\n",
        "len(food_data)\n"
      ],
      "metadata": {
        "colab": {
          "base_uri": "https://localhost:8080/"
        },
        "id": "mwJhRbvnHIEG",
        "outputId": "01ca9469-6932-432f-e277-7a2305081320"
      },
      "execution_count": null,
      "outputs": [
        {
          "output_type": "execute_result",
          "data": {
            "text/plain": [
              "7083"
            ]
          },
          "metadata": {},
          "execution_count": 7
        }
      ]
    },
    {
      "cell_type": "code",
      "source": [
        "food_data.head()\n",
        "\n",
        "food_data.dtypes\n",
        "\n",
        "food_data.describe()\n"
      ],
      "metadata": {
        "colab": {
          "base_uri": "https://localhost:8080/",
          "height": 399
        },
        "id": "Y7QxSq5DOttx",
        "outputId": "94123d54-75af-4131-9c0b-19ceef2989af"
      },
      "execution_count": null,
      "outputs": [
        {
          "output_type": "execute_result",
          "data": {
            "text/plain": [
              "       Nutrient Data Bank Number  Data.Alpha Carotene  Data.Carbohydrate  \\\n",
              "count               7.083000e+03          7083.000000        7083.000000   \n",
              "mean                4.884965e+07            43.759283          20.828039   \n",
              "std                 2.425159e+07           259.520139          21.887363   \n",
              "min                 1.100000e+07             0.000000           0.000000   \n",
              "25%                 2.715077e+07             0.000000           5.650000   \n",
              "50%                 5.326020e+07             0.000000          13.300000   \n",
              "75%                 6.720345e+07             1.000000          26.195000   \n",
              "max                 9.999821e+07          4655.000000         100.000000   \n",
              "\n",
              "       Data.Cholesterol   Data.Fiber  Data.Protein   Data.Water  \\\n",
              "count       7083.000000  7083.000000   7083.000000  7083.000000   \n",
              "mean          34.458845     1.703840      8.599085    59.798820   \n",
              "std           77.479105     2.558168      8.296889    26.828203   \n",
              "min            0.000000     0.000000      0.000000     0.000000   \n",
              "25%            0.000000     0.100000      2.220000    45.895000   \n",
              "50%            8.000000     1.000000      6.190000    66.590000   \n",
              "75%           46.000000     2.100000     12.130000    80.605000   \n",
              "max         3074.000000    46.200000     78.130000    99.980000   \n",
              "\n",
              "       Data.Major Minerals.Magnesium  Data.Major Minerals.Phosphorus  \\\n",
              "count                    7083.000000                     7083.000000   \n",
              "mean                       27.791473                      133.088945   \n",
              "std                        38.207886                      126.498700   \n",
              "min                         0.000000                        0.000000   \n",
              "25%                        12.000000                       48.000000   \n",
              "50%                        20.000000                      102.000000   \n",
              "75%                        29.000000                      189.000000   \n",
              "max                       611.000000                     1429.000000   \n",
              "\n",
              "       Data.Major Minerals.Potassium  Data.Vitamins.Vitamin B12  \n",
              "count                    7083.000000                7083.000000  \n",
              "mean                      217.127488                   0.705177  \n",
              "std                       204.812523                   2.502821  \n",
              "min                         0.000000                   0.000000  \n",
              "25%                       111.000000                   0.000000  \n",
              "50%                       183.000000                   0.180000  \n",
              "75%                       270.500000                   0.550000  \n",
              "max                      6040.000000                  82.440000  "
            ],
            "text/html": [
              "\n",
              "  <div id=\"df-7ce04d4c-4226-4b37-af0a-912051e892dc\">\n",
              "    <div class=\"colab-df-container\">\n",
              "      <div>\n",
              "<style scoped>\n",
              "    .dataframe tbody tr th:only-of-type {\n",
              "        vertical-align: middle;\n",
              "    }\n",
              "\n",
              "    .dataframe tbody tr th {\n",
              "        vertical-align: top;\n",
              "    }\n",
              "\n",
              "    .dataframe thead th {\n",
              "        text-align: right;\n",
              "    }\n",
              "</style>\n",
              "<table border=\"1\" class=\"dataframe\">\n",
              "  <thead>\n",
              "    <tr style=\"text-align: right;\">\n",
              "      <th></th>\n",
              "      <th>Nutrient Data Bank Number</th>\n",
              "      <th>Data.Alpha Carotene</th>\n",
              "      <th>Data.Carbohydrate</th>\n",
              "      <th>Data.Cholesterol</th>\n",
              "      <th>Data.Fiber</th>\n",
              "      <th>Data.Protein</th>\n",
              "      <th>Data.Water</th>\n",
              "      <th>Data.Major Minerals.Magnesium</th>\n",
              "      <th>Data.Major Minerals.Phosphorus</th>\n",
              "      <th>Data.Major Minerals.Potassium</th>\n",
              "      <th>Data.Vitamins.Vitamin B12</th>\n",
              "    </tr>\n",
              "  </thead>\n",
              "  <tbody>\n",
              "    <tr>\n",
              "      <th>count</th>\n",
              "      <td>7.083000e+03</td>\n",
              "      <td>7083.000000</td>\n",
              "      <td>7083.000000</td>\n",
              "      <td>7083.000000</td>\n",
              "      <td>7083.000000</td>\n",
              "      <td>7083.000000</td>\n",
              "      <td>7083.000000</td>\n",
              "      <td>7083.000000</td>\n",
              "      <td>7083.000000</td>\n",
              "      <td>7083.000000</td>\n",
              "      <td>7083.000000</td>\n",
              "    </tr>\n",
              "    <tr>\n",
              "      <th>mean</th>\n",
              "      <td>4.884965e+07</td>\n",
              "      <td>43.759283</td>\n",
              "      <td>20.828039</td>\n",
              "      <td>34.458845</td>\n",
              "      <td>1.703840</td>\n",
              "      <td>8.599085</td>\n",
              "      <td>59.798820</td>\n",
              "      <td>27.791473</td>\n",
              "      <td>133.088945</td>\n",
              "      <td>217.127488</td>\n",
              "      <td>0.705177</td>\n",
              "    </tr>\n",
              "    <tr>\n",
              "      <th>std</th>\n",
              "      <td>2.425159e+07</td>\n",
              "      <td>259.520139</td>\n",
              "      <td>21.887363</td>\n",
              "      <td>77.479105</td>\n",
              "      <td>2.558168</td>\n",
              "      <td>8.296889</td>\n",
              "      <td>26.828203</td>\n",
              "      <td>38.207886</td>\n",
              "      <td>126.498700</td>\n",
              "      <td>204.812523</td>\n",
              "      <td>2.502821</td>\n",
              "    </tr>\n",
              "    <tr>\n",
              "      <th>min</th>\n",
              "      <td>1.100000e+07</td>\n",
              "      <td>0.000000</td>\n",
              "      <td>0.000000</td>\n",
              "      <td>0.000000</td>\n",
              "      <td>0.000000</td>\n",
              "      <td>0.000000</td>\n",
              "      <td>0.000000</td>\n",
              "      <td>0.000000</td>\n",
              "      <td>0.000000</td>\n",
              "      <td>0.000000</td>\n",
              "      <td>0.000000</td>\n",
              "    </tr>\n",
              "    <tr>\n",
              "      <th>25%</th>\n",
              "      <td>2.715077e+07</td>\n",
              "      <td>0.000000</td>\n",
              "      <td>5.650000</td>\n",
              "      <td>0.000000</td>\n",
              "      <td>0.100000</td>\n",
              "      <td>2.220000</td>\n",
              "      <td>45.895000</td>\n",
              "      <td>12.000000</td>\n",
              "      <td>48.000000</td>\n",
              "      <td>111.000000</td>\n",
              "      <td>0.000000</td>\n",
              "    </tr>\n",
              "    <tr>\n",
              "      <th>50%</th>\n",
              "      <td>5.326020e+07</td>\n",
              "      <td>0.000000</td>\n",
              "      <td>13.300000</td>\n",
              "      <td>8.000000</td>\n",
              "      <td>1.000000</td>\n",
              "      <td>6.190000</td>\n",
              "      <td>66.590000</td>\n",
              "      <td>20.000000</td>\n",
              "      <td>102.000000</td>\n",
              "      <td>183.000000</td>\n",
              "      <td>0.180000</td>\n",
              "    </tr>\n",
              "    <tr>\n",
              "      <th>75%</th>\n",
              "      <td>6.720345e+07</td>\n",
              "      <td>1.000000</td>\n",
              "      <td>26.195000</td>\n",
              "      <td>46.000000</td>\n",
              "      <td>2.100000</td>\n",
              "      <td>12.130000</td>\n",
              "      <td>80.605000</td>\n",
              "      <td>29.000000</td>\n",
              "      <td>189.000000</td>\n",
              "      <td>270.500000</td>\n",
              "      <td>0.550000</td>\n",
              "    </tr>\n",
              "    <tr>\n",
              "      <th>max</th>\n",
              "      <td>9.999821e+07</td>\n",
              "      <td>4655.000000</td>\n",
              "      <td>100.000000</td>\n",
              "      <td>3074.000000</td>\n",
              "      <td>46.200000</td>\n",
              "      <td>78.130000</td>\n",
              "      <td>99.980000</td>\n",
              "      <td>611.000000</td>\n",
              "      <td>1429.000000</td>\n",
              "      <td>6040.000000</td>\n",
              "      <td>82.440000</td>\n",
              "    </tr>\n",
              "  </tbody>\n",
              "</table>\n",
              "</div>\n",
              "      <button class=\"colab-df-convert\" onclick=\"convertToInteractive('df-7ce04d4c-4226-4b37-af0a-912051e892dc')\"\n",
              "              title=\"Convert this dataframe to an interactive table.\"\n",
              "              style=\"display:none;\">\n",
              "        \n",
              "  <svg xmlns=\"http://www.w3.org/2000/svg\" height=\"24px\"viewBox=\"0 0 24 24\"\n",
              "       width=\"24px\">\n",
              "    <path d=\"M0 0h24v24H0V0z\" fill=\"none\"/>\n",
              "    <path d=\"M18.56 5.44l.94 2.06.94-2.06 2.06-.94-2.06-.94-.94-2.06-.94 2.06-2.06.94zm-11 1L8.5 8.5l.94-2.06 2.06-.94-2.06-.94L8.5 2.5l-.94 2.06-2.06.94zm10 10l.94 2.06.94-2.06 2.06-.94-2.06-.94-.94-2.06-.94 2.06-2.06.94z\"/><path d=\"M17.41 7.96l-1.37-1.37c-.4-.4-.92-.59-1.43-.59-.52 0-1.04.2-1.43.59L10.3 9.45l-7.72 7.72c-.78.78-.78 2.05 0 2.83L4 21.41c.39.39.9.59 1.41.59.51 0 1.02-.2 1.41-.59l7.78-7.78 2.81-2.81c.8-.78.8-2.07 0-2.86zM5.41 20L4 18.59l7.72-7.72 1.47 1.35L5.41 20z\"/>\n",
              "  </svg>\n",
              "      </button>\n",
              "      \n",
              "  <style>\n",
              "    .colab-df-container {\n",
              "      display:flex;\n",
              "      flex-wrap:wrap;\n",
              "      gap: 12px;\n",
              "    }\n",
              "\n",
              "    .colab-df-convert {\n",
              "      background-color: #E8F0FE;\n",
              "      border: none;\n",
              "      border-radius: 50%;\n",
              "      cursor: pointer;\n",
              "      display: none;\n",
              "      fill: #1967D2;\n",
              "      height: 32px;\n",
              "      padding: 0 0 0 0;\n",
              "      width: 32px;\n",
              "    }\n",
              "\n",
              "    .colab-df-convert:hover {\n",
              "      background-color: #E2EBFA;\n",
              "      box-shadow: 0px 1px 2px rgba(60, 64, 67, 0.3), 0px 1px 3px 1px rgba(60, 64, 67, 0.15);\n",
              "      fill: #174EA6;\n",
              "    }\n",
              "\n",
              "    [theme=dark] .colab-df-convert {\n",
              "      background-color: #3B4455;\n",
              "      fill: #D2E3FC;\n",
              "    }\n",
              "\n",
              "    [theme=dark] .colab-df-convert:hover {\n",
              "      background-color: #434B5C;\n",
              "      box-shadow: 0px 1px 3px 1px rgba(0, 0, 0, 0.15);\n",
              "      filter: drop-shadow(0px 1px 2px rgba(0, 0, 0, 0.3));\n",
              "      fill: #FFFFFF;\n",
              "    }\n",
              "  </style>\n",
              "\n",
              "      <script>\n",
              "        const buttonEl =\n",
              "          document.querySelector('#df-7ce04d4c-4226-4b37-af0a-912051e892dc button.colab-df-convert');\n",
              "        buttonEl.style.display =\n",
              "          google.colab.kernel.accessAllowed ? 'block' : 'none';\n",
              "\n",
              "        async function convertToInteractive(key) {\n",
              "          const element = document.querySelector('#df-7ce04d4c-4226-4b37-af0a-912051e892dc');\n",
              "          const dataTable =\n",
              "            await google.colab.kernel.invokeFunction('convertToInteractive',\n",
              "                                                     [key], {});\n",
              "          if (!dataTable) return;\n",
              "\n",
              "          const docLinkHtml = 'Like what you see? Visit the ' +\n",
              "            '<a target=\"_blank\" href=https://colab.research.google.com/notebooks/data_table.ipynb>data table notebook</a>'\n",
              "            + ' to learn more about interactive tables.';\n",
              "          element.innerHTML = '';\n",
              "          dataTable['output_type'] = 'display_data';\n",
              "          await google.colab.output.renderOutput(dataTable, element);\n",
              "          const docLink = document.createElement('div');\n",
              "          docLink.innerHTML = docLinkHtml;\n",
              "          element.appendChild(docLink);\n",
              "        }\n",
              "      </script>\n",
              "    </div>\n",
              "  </div>\n",
              "  "
            ]
          },
          "metadata": {},
          "execution_count": 8
        }
      ]
    },
    {
      "cell_type": "code",
      "source": [
        "sns.countplot(x='Result',data=food_data)"
      ],
      "metadata": {
        "colab": {
          "base_uri": "https://localhost:8080/",
          "height": 296
        },
        "id": "n1_goAbGOxeT",
        "outputId": "d77b0670-dfad-4f4a-8aa3-ff71cf9f22f3"
      },
      "execution_count": null,
      "outputs": [
        {
          "output_type": "execute_result",
          "data": {
            "text/plain": [
              "<matplotlib.axes._subplots.AxesSubplot at 0x7fa2786bedf0>"
            ]
          },
          "metadata": {},
          "execution_count": 9
        },
        {
          "output_type": "display_data",
          "data": {
            "text/plain": [
              "<Figure size 432x288 with 1 Axes>"
            ],
            "image/png": "[encoded data removed]"
          },
          "metadata": {
            "needs_background": "light"
          }
        }
      ]
    },
    {
      "cell_type": "code",
      "source": [
        "food_data.isna().sum()"
      ],
      "metadata": {
        "colab": {
          "base_uri": "https://localhost:8080/"
        },
        "id": "E51z7sKHO3Jg",
        "outputId": "f956d867-81fe-4f68-dea4-543259f89fbf"
      },
      "execution_count": null,
      "outputs": [
        {
          "output_type": "execute_result",
          "data": {
            "text/plain": [
              "Category                          0\n",
              "Description                       0\n",
              "Nutrient Data Bank Number         0\n",
              "Data.Alpha Carotene               0\n",
              "Data.Carbohydrate                 0\n",
              "Data.Cholesterol                  0\n",
              "Data.Fiber                        0\n",
              "Data.Protein                      0\n",
              "Data.Water                        0\n",
              "Data.Major Minerals.Magnesium     0\n",
              "Data.Major Minerals.Phosphorus    0\n",
              "Data.Major Minerals.Potassium     0\n",
              "Data.Vitamins.Vitamin B12         0\n",
              "Result                            0\n",
              "dtype: int64"
            ]
          },
          "metadata": {},
          "execution_count": 10
        }
      ]
    },
    {
      "cell_type": "code",
      "source": [
        "food_data.drop(['Category','Description','Nutrient Data Bank Number'],axis=1,inplace=True)\n",
        "\n"
      ],
      "metadata": {
        "id": "NsQh_K3DO7At"
      },
      "execution_count": null,
      "outputs": []
    },
    {
      "cell_type": "code",
      "source": [
        "\n",
        "\n",
        "food_data.head()\n"
      ],
      "metadata": {
        "colab": {
          "base_uri": "https://localhost:8080/",
          "height": 267
        },
        "id": "xCRLO9hzPItH",
        "outputId": "c1e5515f-3e6c-451a-b2ee-18167293be21"
      },
      "execution_count": null,
      "outputs": [
        {
          "output_type": "execute_result",
          "data": {
            "text/plain": [
              "   Data.Alpha Carotene  Data.Carbohydrate  Data.Cholesterol  Data.Fiber  \\\n",
              "0                    0               6.89                14         0.0   \n",
              "1                    0               4.87                 8         0.0   \n",
              "2                    0               4.67                12         0.0   \n",
              "3                    0               4.46                14         0.0   \n",
              "4                    0               4.67                12         0.0   \n",
              "\n",
              "   Data.Protein  Data.Water  Data.Major Minerals.Magnesium  \\\n",
              "0          1.03       87.50                              3   \n",
              "1          3.34       89.04                             12   \n",
              "2          3.28       88.10                             12   \n",
              "3          3.10       88.20                              5   \n",
              "4          3.28       88.10                             12   \n",
              "\n",
              "   Data.Major Minerals.Phosphorus  Data.Major Minerals.Potassium  \\\n",
              "0                              14                             51   \n",
              "1                             103                            157   \n",
              "2                             101                            150   \n",
              "3                              86                            253   \n",
              "4                             101                            150   \n",
              "\n",
              "   Data.Vitamins.Vitamin B12 Result  \n",
              "0                       0.05    Yes  \n",
              "1                       0.56     No  \n",
              "2                       0.54    Yes  \n",
              "3                       0.36    Yes  \n",
              "4                       0.54    Yes  "
            ],
            "text/html": [
              "\n",
              "  <div id=\"df-674976af-2c0f-4219-9acf-9a2cdd719a77\">\n",
              "    <div class=\"colab-df-container\">\n",
              "      <div>\n",
              "<style scoped>\n",
              "    .dataframe tbody tr th:only-of-type {\n",
              "        vertical-align: middle;\n",
              "    }\n",
              "\n",
              "    .dataframe tbody tr th {\n",
              "        vertical-align: top;\n",
              "    }\n",
              "\n",
              "    .dataframe thead th {\n",
              "        text-align: right;\n",
              "    }\n",
              "</style>\n",
              "<table border=\"1\" class=\"dataframe\">\n",
              "  <thead>\n",
              "    <tr style=\"text-align: right;\">\n",
              "      <th></th>\n",
              "      <th>Data.Alpha Carotene</th>\n",
              "      <th>Data.Carbohydrate</th>\n",
              "      <th>Data.Cholesterol</th>\n",
              "      <th>Data.Fiber</th>\n",
              "      <th>Data.Protein</th>\n",
              "      <th>Data.Water</th>\n",
              "      <th>Data.Major Minerals.Magnesium</th>\n",
              "      <th>Data.Major Minerals.Phosphorus</th>\n",
              "      <th>Data.Major Minerals.Potassium</th>\n",
              "      <th>Data.Vitamins.Vitamin B12</th>\n",
              "      <th>Result</th>\n",
              "    </tr>\n",
              "  </thead>\n",
              "  <tbody>\n",
              "    <tr>\n",
              "      <th>0</th>\n",
              "      <td>0</td>\n",
              "      <td>6.89</td>\n",
              "      <td>14</td>\n",
              "      <td>0.0</td>\n",
              "      <td>1.03</td>\n",
              "      <td>87.50</td>\n",
              "      <td>3</td>\n",
              "      <td>14</td>\n",
              "      <td>51</td>\n",
              "      <td>0.05</td>\n",
              "      <td>Yes</td>\n",
              "    </tr>\n",
              "    <tr>\n",
              "      <th>1</th>\n",
              "      <td>0</td>\n",
              "      <td>4.87</td>\n",
              "      <td>8</td>\n",
              "      <td>0.0</td>\n",
              "      <td>3.34</td>\n",
              "      <td>89.04</td>\n",
              "      <td>12</td>\n",
              "      <td>103</td>\n",
              "      <td>157</td>\n",
              "      <td>0.56</td>\n",
              "      <td>No</td>\n",
              "    </tr>\n",
              "    <tr>\n",
              "      <th>2</th>\n",
              "      <td>0</td>\n",
              "      <td>4.67</td>\n",
              "      <td>12</td>\n",
              "      <td>0.0</td>\n",
              "      <td>3.28</td>\n",
              "      <td>88.10</td>\n",
              "      <td>12</td>\n",
              "      <td>101</td>\n",
              "      <td>150</td>\n",
              "      <td>0.54</td>\n",
              "      <td>Yes</td>\n",
              "    </tr>\n",
              "    <tr>\n",
              "      <th>3</th>\n",
              "      <td>0</td>\n",
              "      <td>4.46</td>\n",
              "      <td>14</td>\n",
              "      <td>0.0</td>\n",
              "      <td>3.10</td>\n",
              "      <td>88.20</td>\n",
              "      <td>5</td>\n",
              "      <td>86</td>\n",
              "      <td>253</td>\n",
              "      <td>0.36</td>\n",
              "      <td>Yes</td>\n",
              "    </tr>\n",
              "    <tr>\n",
              "      <th>4</th>\n",
              "      <td>0</td>\n",
              "      <td>4.67</td>\n",
              "      <td>12</td>\n",
              "      <td>0.0</td>\n",
              "      <td>3.28</td>\n",
              "      <td>88.10</td>\n",
              "      <td>12</td>\n",
              "      <td>101</td>\n",
              "      <td>150</td>\n",
              "      <td>0.54</td>\n",
              "      <td>Yes</td>\n",
              "    </tr>\n",
              "  </tbody>\n",
              "</table>\n",
              "</div>\n",
              "      <button class=\"colab-df-convert\" onclick=\"convertToInteractive('df-674976af-2c0f-4219-9acf-9a2cdd719a77')\"\n",
              "              title=\"Convert this dataframe to an interactive table.\"\n",
              "              style=\"display:none;\">\n",
              "        \n",
              "  <svg xmlns=\"http://www.w3.org/2000/svg\" height=\"24px\"viewBox=\"0 0 24 24\"\n",
              "       width=\"24px\">\n",
              "    <path d=\"M0 0h24v24H0V0z\" fill=\"none\"/>\n",
              "    <path d=\"M18.56 5.44l.94 2.06.94-2.06 2.06-.94-2.06-.94-.94-2.06-.94 2.06-2.06.94zm-11 1L8.5 8.5l.94-2.06 2.06-.94-2.06-.94L8.5 2.5l-.94 2.06-2.06.94zm10 10l.94 2.06.94-2.06 2.06-.94-2.06-.94-.94-2.06-.94 2.06-2.06.94z\"/><path d=\"M17.41 7.96l-1.37-1.37c-.4-.4-.92-.59-1.43-.59-.52 0-1.04.2-1.43.59L10.3 9.45l-7.72 7.72c-.78.78-.78 2.05 0 2.83L4 21.41c.39.39.9.59 1.41.59.51 0 1.02-.2 1.41-.59l7.78-7.78 2.81-2.81c.8-.78.8-2.07 0-2.86zM5.41 20L4 18.59l7.72-7.72 1.47 1.35L5.41 20z\"/>\n",
              "  </svg>\n",
              "      </button>\n",
              "      \n",
              "  <style>\n",
              "    .colab-df-container {\n",
              "      display:flex;\n",
              "      flex-wrap:wrap;\n",
              "      gap: 12px;\n",
              "    }\n",
              "\n",
              "    .colab-df-convert {\n",
              "      background-color: #E8F0FE;\n",
              "      border: none;\n",
              "      border-radius: 50%;\n",
              "      cursor: pointer;\n",
              "      display: none;\n",
              "      fill: #1967D2;\n",
              "      height: 32px;\n",
              "      padding: 0 0 0 0;\n",
              "      width: 32px;\n",
              "    }\n",
              "\n",
              "    .colab-df-convert:hover {\n",
              "      background-color: #E2EBFA;\n",
              "      box-shadow: 0px 1px 2px rgba(60, 64, 67, 0.3), 0px 1px 3px 1px rgba(60, 64, 67, 0.15);\n",
              "      fill: #174EA6;\n",
              "    }\n",
              "\n",
              "    [theme=dark] .colab-df-convert {\n",
              "      background-color: #3B4455;\n",
              "      fill: #D2E3FC;\n",
              "    }\n",
              "\n",
              "    [theme=dark] .colab-df-convert:hover {\n",
              "      background-color: #434B5C;\n",
              "      box-shadow: 0px 1px 3px 1px rgba(0, 0, 0, 0.15);\n",
              "      filter: drop-shadow(0px 1px 2px rgba(0, 0, 0, 0.3));\n",
              "      fill: #FFFFFF;\n",
              "    }\n",
              "  </style>\n",
              "\n",
              "      <script>\n",
              "        const buttonEl =\n",
              "          document.querySelector('#df-674976af-2c0f-4219-9acf-9a2cdd719a77 button.colab-df-convert');\n",
              "        buttonEl.style.display =\n",
              "          google.colab.kernel.accessAllowed ? 'block' : 'none';\n",
              "\n",
              "        async function convertToInteractive(key) {\n",
              "          const element = document.querySelector('#df-674976af-2c0f-4219-9acf-9a2cdd719a77');\n",
              "          const dataTable =\n",
              "            await google.colab.kernel.invokeFunction('convertToInteractive',\n",
              "                                                     [key], {});\n",
              "          if (!dataTable) return;\n",
              "\n",
              "          const docLinkHtml = 'Like what you see? Visit the ' +\n",
              "            '<a target=\"_blank\" href=https://colab.research.google.com/notebooks/data_table.ipynb>data table notebook</a>'\n",
              "            + ' to learn more about interactive tables.';\n",
              "          element.innerHTML = '';\n",
              "          dataTable['output_type'] = 'display_data';\n",
              "          await google.colab.output.renderOutput(dataTable, element);\n",
              "          const docLink = document.createElement('div');\n",
              "          docLink.innerHTML = docLinkHtml;\n",
              "          element.appendChild(docLink);\n",
              "        }\n",
              "      </script>\n",
              "    </div>\n",
              "  </div>\n",
              "  "
            ]
          },
          "metadata": {},
          "execution_count": 14
        }
      ]
    },
    {
      "cell_type": "code",
      "source": [
        "\n",
        "x=food_data[['Data.Alpha Carotene','Data.Carbohydrate','Data.Cholesterol','Data.Fiber','Data.Protein','Data.Water','Data.Major Minerals.Magnesium','Data.Major Minerals.Phosphorus','Data.Major Minerals.Potassium','Data.Vitamins.Vitamin B12']]\n",
        "y=food_data['Result']\n"
      ],
      "metadata": {
        "id": "-uLKyLujPL6j"
      },
      "execution_count": null,
      "outputs": []
    },
    {
      "cell_type": "code",
      "source": [
        "from sklearn.model_selection import train_test_split\n",
        "\n",
        "#train test split\n",
        "\n",
        "x_train, x_test, y_train, y_test = train_test_split(x, y, test_size=0.33, random_state=42)\n",
        "\n"
      ],
      "metadata": {
        "id": "2uNKJKLRPRFT"
      },
      "execution_count": null,
      "outputs": []
    },
    {
      "cell_type": "code",
      "source": [
        "from sklearn.linear_model import LogisticRegression\n",
        "\n",
        "#Fit  Logistic Regression \n",
        "\n",
        "lr=LogisticRegression()\n",
        "\n",
        "lr.fit(x_train,y_train)\n"
      ],
      "metadata": {
        "colab": {
          "base_uri": "https://localhost:8080/"
        },
        "id": "f58h6U6wPUq5",
        "outputId": "5b86e9b5-87e8-48cd-d1c3-bcedf4859423"
      },
      "execution_count": null,
      "outputs": [
        {
          "output_type": "execute_result",
          "data": {
            "text/plain": [
              "LogisticRegression()"
            ]
          },
          "metadata": {},
          "execution_count": 17
        }
      ]
    },
    {
      "cell_type": "code",
      "source": [
        "predict=lr.predict(x_test)\n",
        "\n",
        "\n",
        "#print confusion matrix \n",
        "\n",
        "from sklearn.metrics import confusion_matrix\n",
        "\n",
        "pd.DataFrame(confusion_matrix(y_test,predict),columns=['Predicted No','Predicted Yes'],index=['Actual No','Actual Yes'])\n"
      ],
      "metadata": {
        "colab": {
          "base_uri": "https://localhost:8080/",
          "height": 112
        },
        "id": "InV1BLLVPZM_",
        "outputId": "13092436-09be-4530-971d-feeadd017b19"
      },
      "execution_count": null,
      "outputs": [
        {
          "output_type": "execute_result",
          "data": {
            "text/plain": [
              "            Predicted No  Predicted Yes\n",
              "Actual No            135            934\n",
              "Actual Yes           172           1097"
            ],
            "text/html": [
              "\n",
              "  <div id=\"df-59cfed2d-57c2-4d7e-9d40-15ab0ce2aeeb\">\n",
              "    <div class=\"colab-df-container\">\n",
              "      <div>\n",
              "<style scoped>\n",
              "    .dataframe tbody tr th:only-of-type {\n",
              "        vertical-align: middle;\n",
              "    }\n",
              "\n",
              "    .dataframe tbody tr th {\n",
              "        vertical-align: top;\n",
              "    }\n",
              "\n",
              "    .dataframe thead th {\n",
              "        text-align: right;\n",
              "    }\n",
              "</style>\n",
              "<table border=\"1\" class=\"dataframe\">\n",
              "  <thead>\n",
              "    <tr style=\"text-align: right;\">\n",
              "      <th></th>\n",
              "      <th>Predicted No</th>\n",
              "      <th>Predicted Yes</th>\n",
              "    </tr>\n",
              "  </thead>\n",
              "  <tbody>\n",
              "    <tr>\n",
              "      <th>Actual No</th>\n",
              "      <td>135</td>\n",
              "      <td>934</td>\n",
              "    </tr>\n",
              "    <tr>\n",
              "      <th>Actual Yes</th>\n",
              "      <td>172</td>\n",
              "      <td>1097</td>\n",
              "    </tr>\n",
              "  </tbody>\n",
              "</table>\n",
              "</div>\n",
              "      <button class=\"colab-df-convert\" onclick=\"convertToInteractive('df-59cfed2d-57c2-4d7e-9d40-15ab0ce2aeeb')\"\n",
              "              title=\"Convert this dataframe to an interactive table.\"\n",
              "              style=\"display:none;\">\n",
              "        \n",
              "  <svg xmlns=\"http://www.w3.org/2000/svg\" height=\"24px\"viewBox=\"0 0 24 24\"\n",
              "       width=\"24px\">\n",
              "    <path d=\"M0 0h24v24H0V0z\" fill=\"none\"/>\n",
              "    <path d=\"M18.56 5.44l.94 2.06.94-2.06 2.06-.94-2.06-.94-.94-2.06-.94 2.06-2.06.94zm-11 1L8.5 8.5l.94-2.06 2.06-.94-2.06-.94L8.5 2.5l-.94 2.06-2.06.94zm10 10l.94 2.06.94-2.06 2.06-.94-2.06-.94-.94-2.06-.94 2.06-2.06.94z\"/><path d=\"M17.41 7.96l-1.37-1.37c-.4-.4-.92-.59-1.43-.59-.52 0-1.04.2-1.43.59L10.3 9.45l-7.72 7.72c-.78.78-.78 2.05 0 2.83L4 21.41c.39.39.9.59 1.41.59.51 0 1.02-.2 1.41-.59l7.78-7.78 2.81-2.81c.8-.78.8-2.07 0-2.86zM5.41 20L4 18.59l7.72-7.72 1.47 1.35L5.41 20z\"/>\n",
              "  </svg>\n",
              "      </button>\n",
              "      \n",
              "  <style>\n",
              "    .colab-df-container {\n",
              "      display:flex;\n",
              "      flex-wrap:wrap;\n",
              "      gap: 12px;\n",
              "    }\n",
              "\n",
              "    .colab-df-convert {\n",
              "      background-color: #E8F0FE;\n",
              "      border: none;\n",
              "      border-radius: 50%;\n",
              "      cursor: pointer;\n",
              "      display: none;\n",
              "      fill: #1967D2;\n",
              "      height: 32px;\n",
              "      padding: 0 0 0 0;\n",
              "      width: 32px;\n",
              "    }\n",
              "\n",
              "    .colab-df-convert:hover {\n",
              "      background-color: #E2EBFA;\n",
              "      box-shadow: 0px 1px 2px rgba(60, 64, 67, 0.3), 0px 1px 3px 1px rgba(60, 64, 67, 0.15);\n",
              "      fill: #174EA6;\n",
              "    }\n",
              "\n",
              "    [theme=dark] .colab-df-convert {\n",
              "      background-color: #3B4455;\n",
              "      fill: #D2E3FC;\n",
              "    }\n",
              "\n",
              "    [theme=dark] .colab-df-convert:hover {\n",
              "      background-color: #434B5C;\n",
              "      box-shadow: 0px 1px 3px 1px rgba(0, 0, 0, 0.15);\n",
              "      filter: drop-shadow(0px 1px 2px rgba(0, 0, 0, 0.3));\n",
              "      fill: #FFFFFF;\n",
              "    }\n",
              "  </style>\n",
              "\n",
              "      <script>\n",
              "        const buttonEl =\n",
              "          document.querySelector('#df-59cfed2d-57c2-4d7e-9d40-15ab0ce2aeeb button.colab-df-convert');\n",
              "        buttonEl.style.display =\n",
              "          google.colab.kernel.accessAllowed ? 'block' : 'none';\n",
              "\n",
              "        async function convertToInteractive(key) {\n",
              "          const element = document.querySelector('#df-59cfed2d-57c2-4d7e-9d40-15ab0ce2aeeb');\n",
              "          const dataTable =\n",
              "            await google.colab.kernel.invokeFunction('convertToInteractive',\n",
              "                                                     [key], {});\n",
              "          if (!dataTable) return;\n",
              "\n",
              "          const docLinkHtml = 'Like what you see? Visit the ' +\n",
              "            '<a target=\"_blank\" href=https://colab.research.google.com/notebooks/data_table.ipynb>data table notebook</a>'\n",
              "            + ' to learn more about interactive tables.';\n",
              "          element.innerHTML = '';\n",
              "          dataTable['output_type'] = 'display_data';\n",
              "          await google.colab.output.renderOutput(dataTable, element);\n",
              "          const docLink = document.createElement('div');\n",
              "          docLink.innerHTML = docLinkHtml;\n",
              "          element.appendChild(docLink);\n",
              "        }\n",
              "      </script>\n",
              "    </div>\n",
              "  </div>\n",
              "  "
            ]
          },
          "metadata": {},
          "execution_count": 19
        }
      ]
    },
    {
      "cell_type": "code",
      "source": [
        "from sklearn.metrics import classification_report\n",
        "\n",
        "print(classification_report(y_test,predict))\n",
        "\n",
        "input_data=(1,0,2,23.44,34,21,0,19,19,10)\n",
        "\n",
        "#chnage the input data to a numpy array\n",
        "input_data_as_numpy_array=np.asarray(input_data)\n"
      ],
      "metadata": {
        "colab": {
          "base_uri": "https://localhost:8080/"
        },
        "id": "3x-iLW3FPhVV",
        "outputId": "f407798f-efc6-4647-d703-80a479aeed9d"
      },
      "execution_count": null,
      "outputs": [
        {
          "output_type": "stream",
          "name": "stdout",
          "text": [
            "              precision    recall  f1-score   support\n",
            "\n",
            "          No       0.44      0.13      0.20      1069\n",
            "         Yes       0.54      0.86      0.66      1269\n",
            "\n",
            "    accuracy                           0.53      2338\n",
            "   macro avg       0.49      0.50      0.43      2338\n",
            "weighted avg       0.49      0.53      0.45      2338\n",
            "\n"
          ]
        }
      ]
    },
    {
      "cell_type": "code",
      "source": [
        "input_data_reshaped=input_data_as_numpy_array.reshape(1,-1)\n",
        "\n",
        "prediction=lr.predict(input_data_reshaped)\n",
        "print(prediction)\n",
        "\n"
      ],
      "metadata": {
        "colab": {
          "base_uri": "https://localhost:8080/"
        },
        "id": "J9e4DjIjPmPy",
        "outputId": "83a325f5-c406-43da-9e0a-c1e3675b85ca"
      },
      "execution_count": null,
      "outputs": [
        {
          "output_type": "stream",
          "name": "stdout",
          "text": [
            "['Yes']\n"
          ]
        }
      ]
    },
    {
      "cell_type": "code",
      "source": [
        "\n",
        "import pickle\n",
        "file=open(\"model.pkl\", 'wb')\n",
        "pickle.dump(lr, file)\n"
      ],
      "metadata": {
        "id": "ClorVZw_P1s8"
      },
      "execution_count": null,
      "outputs": []
    }
  ]
}